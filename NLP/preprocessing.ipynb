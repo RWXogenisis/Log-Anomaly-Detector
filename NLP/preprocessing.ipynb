{
 "cells": [
  {
   "cell_type": "code",
   "execution_count": 19,
   "metadata": {},
   "outputs": [
    {
     "name": "stdout",
     "output_type": "stream",
     "text": [
      "Requirement already satisfied: rake-nltk in /opt/homebrew/lib/python3.11/site-packages (1.0.6)\n",
      "Requirement already satisfied: nltk<4.0.0,>=3.6.2 in /opt/homebrew/lib/python3.11/site-packages (from rake-nltk) (3.8.1)\n",
      "Requirement already satisfied: click in /opt/homebrew/lib/python3.11/site-packages (from nltk<4.0.0,>=3.6.2->rake-nltk) (8.1.3)\n",
      "Requirement already satisfied: joblib in /opt/homebrew/lib/python3.11/site-packages (from nltk<4.0.0,>=3.6.2->rake-nltk) (1.2.0)\n",
      "Requirement already satisfied: regex>=2021.8.3 in /opt/homebrew/lib/python3.11/site-packages (from nltk<4.0.0,>=3.6.2->rake-nltk) (2023.10.3)\n",
      "Requirement already satisfied: tqdm in /opt/homebrew/lib/python3.11/site-packages (from nltk<4.0.0,>=3.6.2->rake-nltk) (4.66.1)\n",
      "Requirement already satisfied: summa in /opt/homebrew/lib/python3.11/site-packages (1.2.0)\n",
      "Requirement already satisfied: scipy>=0.19 in /opt/homebrew/lib/python3.11/site-packages (from summa) (1.10.1)\n",
      "Requirement already satisfied: numpy<1.27.0,>=1.19.5 in /opt/homebrew/lib/python3.11/site-packages (from scipy>=0.19->summa) (1.24.3)\n",
      "Requirement already satisfied: nltk in /opt/homebrew/lib/python3.11/site-packages (3.8.1)\n",
      "Requirement already satisfied: click in /opt/homebrew/lib/python3.11/site-packages (from nltk) (8.1.3)\n",
      "Requirement already satisfied: joblib in /opt/homebrew/lib/python3.11/site-packages (from nltk) (1.2.0)\n",
      "Requirement already satisfied: regex>=2021.8.3 in /opt/homebrew/lib/python3.11/site-packages (from nltk) (2023.10.3)\n",
      "Requirement already satisfied: tqdm in /opt/homebrew/lib/python3.11/site-packages (from nltk) (4.66.1)\n",
      "Requirement already satisfied: gensim in /opt/homebrew/lib/python3.11/site-packages (4.3.2)\n",
      "Requirement already satisfied: numpy>=1.18.5 in /opt/homebrew/lib/python3.11/site-packages (from gensim) (1.24.3)\n",
      "Requirement already satisfied: scipy>=1.7.0 in /opt/homebrew/lib/python3.11/site-packages (from gensim) (1.10.1)\n",
      "Requirement already satisfied: smart-open>=1.8.1 in /opt/homebrew/lib/python3.11/site-packages (from gensim) (6.4.0)\n",
      "Requirement already satisfied: pandas in /opt/homebrew/lib/python3.11/site-packages (2.0.2)\n",
      "Requirement already satisfied: python-dateutil>=2.8.2 in /opt/homebrew/lib/python3.11/site-packages (from pandas) (2.8.2)\n",
      "Requirement already satisfied: pytz>=2020.1 in /opt/homebrew/lib/python3.11/site-packages (from pandas) (2023.3)\n",
      "Requirement already satisfied: tzdata>=2022.1 in /opt/homebrew/lib/python3.11/site-packages (from pandas) (2023.3)\n",
      "Requirement already satisfied: numpy>=1.21.0 in /opt/homebrew/lib/python3.11/site-packages (from pandas) (1.24.3)\n",
      "Requirement already satisfied: six>=1.5 in /opt/homebrew/lib/python3.11/site-packages (from python-dateutil>=2.8.2->pandas) (1.16.0)\n",
      "Requirement already satisfied: Counter in /opt/homebrew/lib/python3.11/site-packages (1.0.0)\n",
      "Requirement already satisfied: keywords in /opt/homebrew/lib/python3.11/site-packages (0.0.1)\n"
     ]
    }
   ],
   "source": [
    "!pip3 install rake-nltk\n",
    "!pip3 install summa\n",
    "!pip3 install nltk\n",
    "!pip3 install gensim\n",
    "!pip3 install pandas\n",
    "!pip3 install Counter\n",
    "!pip3 install keywords"
   ]
  },
  {
   "cell_type": "code",
   "execution_count": 20,
   "metadata": {},
   "outputs": [],
   "source": [
    "from rake_nltk import Rake\n",
    "from summa import keywords\n",
    "import nltk\n",
    "from nltk import pos_tag\n",
    "from nltk.tokenize import word_tokenize\n",
    "from gensim.models import Word2Vec\n",
    "from collections import Counter\n",
    "import pandas as pd\n",
    "from nltk.tokenize import RegexpTokenizer\n",
    "import csv\n",
    "from datetime import datetime, timedelta\n",
    "import re"
   ]
  },
  {
   "cell_type": "code",
   "execution_count": 21,
   "metadata": {},
   "outputs": [],
   "source": [
    "# Convert GMT to epoch\n",
    "def convert_gmt_to_epoch(gmt_datetime_str):\n",
    "    gmt_datetime = datetime.strptime(gmt_datetime_str, \"%d/%b/%Y:%H:%M:%S %z\")\n",
    "    return int(gmt_datetime.timestamp())"
   ]
  },
  {
   "cell_type": "code",
   "execution_count": 22,
   "metadata": {},
   "outputs": [],
   "source": [
    "# HTTP mapping\n",
    "http_method_mapping = {\n",
    "    'GET': 0,\n",
    "    'HEAD': 1,\n",
    "    'POST': 2,\n",
    "    'PUT': 3,\n",
    "    'DELETE': 4,\n",
    "    'CONNECT': 5,\n",
    "    'OPTIONS': 6,\n",
    "    'TRACE': 7,\n",
    "    'PATCH': 8,\n",
    "    'PROPFIND': 9,\n",
    "}"
   ]
  },
  {
   "cell_type": "code",
   "execution_count": 23,
   "metadata": {},
   "outputs": [],
   "source": [
    "# Function to parse HTTP request for both cases\n",
    "def parse_http_request(http_request):\n",
    "    http_request_pattern = re.compile(r'(?P<http_method>\\w+) (?P<resource_path>.*?) HTTP/\\d\\.\\d')\n",
    "    http_request_match = http_request_pattern.match(http_request)\n",
    "\n",
    "    if http_request_match:\n",
    "        http_method = http_request_match.group('http_method')\n",
    "        resource_path = http_request_match.group('resource_path')\n",
    "\n",
    "        return {\n",
    "            'http_method': http_method_mapping.get(http_method, -1),\n",
    "            'resource_path': resource_path,\n",
    "        }\n",
    "    else:\n",
    "        return None"
   ]
  },
  {
   "cell_type": "code",
   "execution_count": 24,
   "metadata": {},
   "outputs": [],
   "source": [
    "# Padding of the IP address\n",
    "def parse_ip_address(ip_address):\n",
    "    segments = ip_address.split('.')\n",
    "    padded_segments = [segment.zfill(3) for segment in segments]\n",
    "    padded_ip_str = ''.join(padded_segments)\n",
    "    return int(padded_ip_str)"
   ]
  },
  {
   "cell_type": "code",
   "execution_count": 25,
   "metadata": {},
   "outputs": [],
   "source": [
    "# Parse the log lines\n",
    "def parse_log_line(log_line):\n",
    "    # Use regular expression to extract information from the log line\n",
    "    pattern = re.compile(r'(?P<ip_address>\\d+\\.\\d+\\.\\d+\\.\\d+) - - \\[(?P<datetime>.*?)\\] \"(?P<http_request>.*?)\" (?P<status_code>\\d+) (?P<bytes_sent>\\d+) \"(-)\" \"(?P<user_agent>[^\"]*)\"')\n",
    "\n",
    "    match = pattern.match(log_line)\n",
    "\n",
    "    if match:\n",
    "        data = match.groupdict()\n",
    "        # Padding of the IP address\n",
    "        data['ip_address'] = parse_ip_address(data['ip_address'])\n",
    "\n",
    "        # Convert GMT to IST for datetime\n",
    "        data['datetime'] = convert_gmt_to_epoch(data['datetime'])\n",
    "\n",
    "        # Parse HTTP request\n",
    "        http_request_info = parse_http_request(data['http_request'])\n",
    "        if http_request_info:\n",
    "            data.update(http_request_info)\n",
    "\n",
    "        # Clean the resource path\n",
    "        clean_resource_path = re.sub(r'\\?.*$', '', data['http_request'])\n",
    "        data['resource_path'] = clean_resource_path\n",
    "\n",
    "        # Remove the 'http_request' key\n",
    "        del data['http_request']\n",
    "\n",
    "        return data\n",
    "    else:\n",
    "        return None"
   ]
  },
  {
   "cell_type": "code",
   "execution_count": 26,
   "metadata": {},
   "outputs": [],
   "source": [
    "# Final fucntion that writes to the csv file\n",
    "def write_to_csv(log_data, csv_file_path):\n",
    "    # Write the data to a CSV file\n",
    "    with open(csv_file_path, mode='w', newline='') as csv_file:\n",
    "        fieldnames = ['ip_address', 'datetime', 'http_method', 'resource_path', 'status_code', 'bytes_sent', 'user_agent']\n",
    "        writer = csv.DictWriter(csv_file, fieldnames=fieldnames)\n",
    "        writer.writeheader()\n",
    "        writer.writerows(log_data)"
   ]
  },
  {
   "cell_type": "code",
   "execution_count": 27,
   "metadata": {},
   "outputs": [],
   "source": [
    "# File paths\n",
    "log_file_path = './ssl_access_log-20231107'\n",
    "csv_file_path = './updated_ssl_access_log-20231107.csv'\n",
    "\n",
    "# Read and parse the log file\n",
    "log_data = []\n",
    "with open(log_file_path, 'r') as log_file:\n",
    "    for line in log_file:\n",
    "        parsed_data = parse_log_line(line)\n",
    "        if parsed_data:\n",
    "            log_data.append(parsed_data)\n",
    "\n",
    "# Write the parsed data to a CSV file\n",
    "write_to_csv(log_data, csv_file_path)"
   ]
  },
  {
   "cell_type": "code",
   "execution_count": 10,
   "metadata": {},
   "outputs": [
    {
     "name": "stderr",
     "output_type": "stream",
     "text": [
      "[nltk_data] Downloading package averaged_perceptron_tagger to\n",
      "[nltk_data]     /Users/hareeshsenthil/nltk_data...\n",
      "[nltk_data]   Package averaged_perceptron_tagger is already up-to-\n",
      "[nltk_data]       date!\n",
      "[nltk_data] Downloading package punkt to\n",
      "[nltk_data]     /Users/hareeshsenthil/nltk_data...\n",
      "[nltk_data]   Package punkt is already up-to-date!\n",
      "[nltk_data] Downloading package stopwords to\n",
      "[nltk_data]     /Users/hareeshsenthil/nltk_data...\n",
      "[nltk_data]   Package stopwords is already up-to-date!\n"
     ]
    },
    {
     "data": {
      "text/plain": [
       "True"
      ]
     },
     "execution_count": 10,
     "metadata": {},
     "output_type": "execute_result"
    }
   ],
   "source": [
    "nltk.download('averaged_perceptron_tagger')\n",
    "nltk.download('punkt')\n",
    "nltk.download('stopwords')"
   ]
  },
  {
   "cell_type": "code",
   "execution_count": 11,
   "metadata": {},
   "outputs": [],
   "source": [
    "df = pd.read_csv('./updated_ssl_access_log-20231107.csv')\n",
    "\n",
    "user_agent = df['user_agent'].tolist()\n",
    "resource_path = df['resource_path'].tolist()"
   ]
  },
  {
   "cell_type": "code",
   "execution_count": 12,
   "metadata": {},
   "outputs": [],
   "source": [
    "def extract_keywords_rake_user(text):\n",
    "    return text.split('/')\n",
    "\n",
    "def extract_keywords_rake(text):\n",
    "    rake = Rake()\n",
    "    rake.extract_keywords_from_text(text)\n",
    "    return rake.get_ranked_phrases()"
   ]
  },
  {
   "cell_type": "code",
   "execution_count": 13,
   "metadata": {},
   "outputs": [],
   "source": [
    "for index, row in df.iterrows():\n",
    "    user_keywords = extract_keywords_rake_user(str(row['user_agent']))\n",
    "    resource_keywords = extract_keywords_rake(str(row['resource_path']))\n",
    "    # Add the extracted keywords to new columns\n",
    "    df.at[index, 'user_keywords'] = ', '.join(user_keywords)\n",
    "    df.at[index, 'resource_keywords'] = ', '.join(resource_keywords)"
   ]
  },
  {
   "cell_type": "code",
   "execution_count": null,
   "metadata": {},
   "outputs": [],
   "source": [
    "# Define a custom tokenizer that preserves words containing hyphens and commas\n",
    "custom_tokenizer = RegexpTokenizer(r'\\w+[-,]\\w+|\\w+')\n",
    "\n",
    "# Apply the custom tokenizer to the 'user_keywords' column\n",
    "df['tokenized_user_keywords'] = df['user_keywords'].apply(lambda x: custom_tokenizer.tokenize(x.lower()))\n",
    "df['tokenized_resource_keywords'] = df['resource_keywords'].apply(lambda x: custom_tokenizer.tokenize(x.lower()))\n",
    "\n",
    "# Train Word2Vec models on the entire corpus\n",
    "model_user_keywords = Word2Vec(df['tokenized_user_keywords'], vector_size=1, window=1, min_count=1, workers=1)\n",
    "model_resource_keywords = Word2Vec(df['tokenized_resource_keywords'], vector_size=1, window=1, min_count=1, workers=1)\n",
    "\n",
    "# Get embeddings for each row\n",
    "df['user_keywords_embeddings'] = df['tokenized_user_keywords'].apply(\n",
    "    lambda keywords: [model_user_keywords.wv[word] for word in keywords if word in model_user_keywords.wv]\n",
    ")\n",
    "df['resource_keywords_embeddings'] = df['tokenized_resource_keywords'].apply(\n",
    "    lambda keywords: [model_resource_keywords.wv[word] for word in keywords if word in model_resource_keywords.wv]\n",
    ")"
   ]
  },
  {
   "cell_type": "code",
   "execution_count": 33,
   "metadata": {},
   "outputs": [],
   "source": [
    "# Save the DataFrame to a new CSV file\n",
    "df.to_csv('./final.csv', index=False)"
   ]
  }
 ],
 "metadata": {
  "kernelspec": {
   "display_name": "Python 3",
   "language": "python",
   "name": "python3"
  },
  "language_info": {
   "codemirror_mode": {
    "name": "ipython",
    "version": 3
   },
   "file_extension": ".py",
   "mimetype": "text/x-python",
   "name": "python",
   "nbconvert_exporter": "python",
   "pygments_lexer": "ipython3",
   "version": "3.11.6"
  }
 },
 "nbformat": 4,
 "nbformat_minor": 2
}
